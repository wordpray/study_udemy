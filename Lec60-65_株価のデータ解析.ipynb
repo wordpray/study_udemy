{
 "cells": [
  {
   "cell_type": "code",
   "execution_count": 1,
   "metadata": {
    "collapsed": true
   },
   "outputs": [],
   "source": [
    "import pandas as pd\n",
    "from pandas import Series, DataFrame\n",
    "import numpy as np\n",
    "\n",
    "import matplotlib.pyplot as plt\n",
    "import seaborn as sns\n",
    "sns.set_style('whitegrid')\n",
    "\n",
    "%matplotlib inline"
   ]
  },
  {
   "cell_type": "code",
   "execution_count": 13,
   "metadata": {},
   "outputs": [],
   "source": [
    "import pandas_datareader.data as web\n",
    "from datetime import datetime"
   ]
  },
  {
   "cell_type": "code",
   "execution_count": 23,
   "metadata": {
    "collapsed": true
   },
   "outputs": [],
   "source": [
    "AAPL= web.get_data_google('AAPL', start, end)\n",
    "GOOG= web.get_data_google('AAPL', start, end)\n",
    "MSFT= web.get_data_google('MSFT', start, end)\n",
    "AMZN= web.get_data_google('AMZN', start, end)\n",
    "\n",
    "end= datetime.now()\n",
    "start= datetime(end.year - 1, end.month, end.day)"
   ]
  },
  {
   "cell_type": "code",
   "execution_count": 24,
   "metadata": {},
   "outputs": [
    {
     "data": {
      "text/html": [
       "<div>\n",
       "<style>\n",
       "    .dataframe thead tr:only-child th {\n",
       "        text-align: right;\n",
       "    }\n",
       "\n",
       "    .dataframe thead th {\n",
       "        text-align: left;\n",
       "    }\n",
       "\n",
       "    .dataframe tbody tr th {\n",
       "        vertical-align: top;\n",
       "    }\n",
       "</style>\n",
       "<table border=\"1\" class=\"dataframe\">\n",
       "  <thead>\n",
       "    <tr style=\"text-align: right;\">\n",
       "      <th></th>\n",
       "      <th>Open</th>\n",
       "      <th>High</th>\n",
       "      <th>Low</th>\n",
       "      <th>Close</th>\n",
       "      <th>Volume</th>\n",
       "    </tr>\n",
       "  </thead>\n",
       "  <tbody>\n",
       "    <tr>\n",
       "      <th>count</th>\n",
       "      <td>252.000000</td>\n",
       "      <td>252.000000</td>\n",
       "      <td>252.000000</td>\n",
       "      <td>252.000000</td>\n",
       "      <td>2.520000e+02</td>\n",
       "    </tr>\n",
       "    <tr>\n",
       "      <th>mean</th>\n",
       "      <td>132.429246</td>\n",
       "      <td>133.351786</td>\n",
       "      <td>131.596032</td>\n",
       "      <td>132.565873</td>\n",
       "      <td>2.967105e+07</td>\n",
       "    </tr>\n",
       "    <tr>\n",
       "      <th>std</th>\n",
       "      <td>17.507347</td>\n",
       "      <td>17.521607</td>\n",
       "      <td>17.349304</td>\n",
       "      <td>17.412341</td>\n",
       "      <td>1.387786e+07</td>\n",
       "    </tr>\n",
       "    <tr>\n",
       "      <th>min</th>\n",
       "      <td>102.650000</td>\n",
       "      <td>105.720000</td>\n",
       "      <td>102.530000</td>\n",
       "      <td>103.130000</td>\n",
       "      <td>1.147592e+07</td>\n",
       "    </tr>\n",
       "    <tr>\n",
       "      <th>25%</th>\n",
       "      <td>115.172500</td>\n",
       "      <td>116.195000</td>\n",
       "      <td>114.085000</td>\n",
       "      <td>115.585000</td>\n",
       "      <td>2.144606e+07</td>\n",
       "    </tr>\n",
       "    <tr>\n",
       "      <th>50%</th>\n",
       "      <td>137.635000</td>\n",
       "      <td>138.135000</td>\n",
       "      <td>136.875000</td>\n",
       "      <td>137.895000</td>\n",
       "      <td>2.616350e+07</td>\n",
       "    </tr>\n",
       "    <tr>\n",
       "      <th>75%</th>\n",
       "      <td>146.032500</td>\n",
       "      <td>147.262500</td>\n",
       "      <td>145.112500</td>\n",
       "      <td>146.387500</td>\n",
       "      <td>3.342159e+07</td>\n",
       "    </tr>\n",
       "    <tr>\n",
       "      <th>max</th>\n",
       "      <td>161.940000</td>\n",
       "      <td>162.510000</td>\n",
       "      <td>160.150000</td>\n",
       "      <td>161.600000</td>\n",
       "      <td>1.123403e+08</td>\n",
       "    </tr>\n",
       "  </tbody>\n",
       "</table>\n",
       "</div>"
      ],
      "text/plain": [
       "             Open        High         Low       Close        Volume\n",
       "count  252.000000  252.000000  252.000000  252.000000  2.520000e+02\n",
       "mean   132.429246  133.351786  131.596032  132.565873  2.967105e+07\n",
       "std     17.507347   17.521607   17.349304   17.412341  1.387786e+07\n",
       "min    102.650000  105.720000  102.530000  103.130000  1.147592e+07\n",
       "25%    115.172500  116.195000  114.085000  115.585000  2.144606e+07\n",
       "50%    137.635000  138.135000  136.875000  137.895000  2.616350e+07\n",
       "75%    146.032500  147.262500  145.112500  146.387500  3.342159e+07\n",
       "max    161.940000  162.510000  160.150000  161.600000  1.123403e+08"
      ]
     },
     "execution_count": 24,
     "metadata": {},
     "output_type": "execute_result"
    }
   ],
   "source": [
    "AAPL.describe()"
   ]
  },
  {
   "cell_type": "code",
   "execution_count": 25,
   "metadata": {},
   "outputs": [
    {
     "name": "stdout",
     "output_type": "stream",
     "text": [
      "<class 'pandas.core.frame.DataFrame'>\n",
      "DatetimeIndex: 252 entries, 2016-08-29 to 2017-08-28\n",
      "Data columns (total 5 columns):\n",
      "Open      252 non-null float64\n",
      "High      252 non-null float64\n",
      "Low       252 non-null float64\n",
      "Close     252 non-null float64\n",
      "Volume    252 non-null int64\n",
      "dtypes: float64(4), int64(1)\n",
      "memory usage: 11.8 KB\n"
     ]
    }
   ],
   "source": [
    "AAPL.info()"
   ]
  },
  {
   "cell_type": "code",
   "execution_count": 26,
   "metadata": {},
   "outputs": [
    {
     "data": {
      "text/plain": [
       "<matplotlib.axes._subplots.AxesSubplot at 0x11a37d198>"
      ]
     },
     "execution_count": 26,
     "metadata": {},
     "output_type": "execute_result"
    },
    {
     "data": {
      "image/png": "[encoded data removed]",
      "text/plain": [
       "<matplotlib.figure.Figure at 0x11a3934e0>"
      ]
     },
     "metadata": {},
     "output_type": "display_data"
    }
   ],
   "source": [
    "AAPL['Close'].plot(legend= True, figsize=(10, 4))"
   ]
  },
  {
   "cell_type": "code",
   "execution_count": null,
   "metadata": {
    "collapsed": true
   },
   "outputs": [],
   "source": []
  }
 ],
 "metadata": {
  "kernelspec": {
   "display_name": "Python 3",
   "language": "python",
   "name": "python3"
  },
  "language_info": {
   "codemirror_mode": {
    "name": "ipython",
    "version": 3
   },
   "file_extension": ".py",
   "mimetype": "text/x-python",
   "name": "python",
   "nbconvert_exporter": "python",
   "pygments_lexer": "ipython3",
   "version": "3.6.1"
  }
 },
 "nbformat": 4,
 "nbformat_minor": 2
}
