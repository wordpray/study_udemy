{
 "cells": [
  {
   "cell_type": "code",
   "execution_count": 2,
   "metadata": {},
   "outputs": [
    {
     "name": "stdout",
     "output_type": "stream",
     "text": [
      "プレイヤーAが平均的な試合で６回シュートを決める確率は11.08%\n",
      "\n",
      "プレイヤーBが平均的な試合で６回シュートを決める確率は17.02%\n"
     ]
    }
   ],
   "source": [
    "p_A= .72\n",
    "n_A= 11\n",
    "\n",
    "k= 6\n",
    "\n",
    "import scipy.misc as sc\n",
    "\n",
    "comb_A= sc.comb(n_A, k)\n",
    "\n",
    "answer_A= comb_A*(p_A**k)*((1- p_A)**(n_A-k))\n",
    "answer_A= 100*answer_A\n",
    "\n",
    "p_B= .48\n",
    "n_B= 15\n",
    "\n",
    "comb_B= sc.comb(n_B, k)\n",
    "answer_B= 100*comb_B*(p_B**k)*((1-p_B)**(n_B-k))\n",
    "\n",
    "print('プレイヤーAが平均的な試合で６回シュートを決める確率は{:0.2f}%'.format(answer_A))\n",
    "print('')\n",
    "print('プレイヤーBが平均的な試合で６回シュートを決める確率は{:0.2f}%'.format(answer_B))"
   ]
  },
  {
   "cell_type": "code",
   "execution_count": 3,
   "metadata": {},
   "outputs": [
    {
     "name": "stdout",
     "output_type": "stream",
     "text": [
      "プレイヤーAが平均的な試合で６回シュートを決める確率は22.42%\n",
      "\n",
      "プレイヤーBが平均的な試合で６回シュートを決める確率は13.38%\n"
     ]
    }
   ],
   "source": [
    "k=9\n",
    "\n",
    "comb_A= sc.comb(n_A, k)\n",
    "comb_B= sc.comb(n_B, k)\n",
    "\n",
    "answer_A= comb_A*(p_A**k)*((1- p_A)**(n_A-k))\n",
    "answer_A= 100*answer_A\n",
    "\n",
    "comb_B= sc.comb(n_B, k)\n",
    "answer_B= 100*comb_B*(p_B**k)*((1-p_B)**(n_B-k))\n",
    "\n",
    "print('プレイヤーAが平均的な試合で６回シュートを決める確率は{:0.2f}%'.format(answer_A))\n",
    "print('')\n",
    "print('プレイヤーBが平均的な試合で６回シュートを決める確率は{:0.2f}%'.format(answer_B))\n"
   ]
  },
  {
   "cell_type": "code",
   "execution_count": 4,
   "metadata": {},
   "outputs": [
    {
     "name": "stdout",
     "output_type": "stream",
     "text": [
      "プレイヤーAは1試合で、平均7.9回±1.5シュートを決めます。\n",
      "\n",
      "\n",
      "プレイヤーBは1試合で、平均7.2回±1.9シュートを決めます。\n"
     ]
    }
   ],
   "source": [
    "mu_A = n_A *p_A\n",
    "mu_B = n_B *p_B\n",
    "\n",
    "sigma_A = ( n_A *p_A*(1-p_A) )**0.5\n",
    "sigma_B = ( n_B *p_B*(1-p_B) )**0.5\n",
    "\n",
    "print('プレイヤーAは1試合で、平均{:0.1f}回±{:0.1f}シュートを決めます。'.format(mu_A,sigma_A))\n",
    "print('\\n')\n",
    "print('プレイヤーBは1試合で、平均{:0.1f}回±{:0.1f}シュートを決めます。'.format(mu_B,sigma_B))"
   ]
  },
  {
   "cell_type": "code",
   "execution_count": 5,
   "metadata": {},
   "outputs": [
    {
     "name": "stdout",
     "output_type": "stream",
     "text": [
      "7.92\n",
      "1.48916083752\n"
     ]
    }
   ],
   "source": [
    "from scipy.stats import binom\n",
    "\n",
    "mean, var = binom.stats(n_A, p_A)\n",
    "\n",
    "print(mean)\n",
    "print(var ** 0.5)"
   ]
  },
  {
   "cell_type": "code",
   "execution_count": 6,
   "metadata": {},
   "outputs": [
    {
     "data": {
      "text/plain": [
       "array([ 0.00097656,  0.00976563,  0.04394531,  0.1171875 ,  0.20507813,\n",
       "        0.24609375,  0.20507813,  0.1171875 ,  0.04394531,  0.00976563,\n",
       "        0.00097656])"
      ]
     },
     "execution_count": 6,
     "metadata": {},
     "output_type": "execute_result"
    }
   ],
   "source": [
    "import numpy as np\n",
    "\n",
    "n= 10\n",
    "p= 0.5\n",
    "\n",
    "x= range(n+1)\n",
    "\n",
    "y= binom.pmf(x, n, p)\n",
    "y"
   ]
  },
  {
   "cell_type": "code",
   "execution_count": null,
   "metadata": {
    "collapsed": true
   },
   "outputs": [],
   "source": []
  }
 ],
 "metadata": {
  "kernelspec": {
   "display_name": "Python 3",
   "language": "python",
   "name": "python3"
  },
  "language_info": {
   "codemirror_mode": {
    "name": "ipython",
    "version": 3
   },
   "file_extension": ".py",
   "mimetype": "text/x-python",
   "name": "python",
   "nbconvert_exporter": "python",
   "pygments_lexer": "ipython3",
   "version": "3.6.1"
  }
 },
 "nbformat": 4,
 "nbformat_minor": 2
}
